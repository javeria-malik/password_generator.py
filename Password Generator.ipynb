{
 "cells": [
  {
   "cell_type": "markdown",
   "id": "9df40d1f",
   "metadata": {},
   "source": [
    "# Password Generator"
   ]
  },
  {
   "cell_type": "code",
   "execution_count": 46,
   "id": "7bd9acf6",
   "metadata": {},
   "outputs": [],
   "source": [
    "import random "
   ]
  },
  {
   "cell_type": "code",
   "execution_count": 47,
   "id": "30a6ca25",
   "metadata": {},
   "outputs": [],
   "source": [
    "import string"
   ]
  },
  {
   "cell_type": "code",
   "execution_count": 48,
   "id": "1e6f5ec3",
   "metadata": {},
   "outputs": [],
   "source": [
    "def power_generation_complex(length):\n",
    "    characters=string.digits+string.ascii_letters+string.punctuation\n",
    "    password=\" \"\n",
    "    for i in range(length):\n",
    "        password+=random.choice(characters)\n",
    "    return password"
   ]
  },
  {
   "cell_type": "code",
   "execution_count": 49,
   "id": "a4e632f6",
   "metadata": {},
   "outputs": [],
   "source": [
    "def power_generation(length):\n",
    "    characters=string.digits+string.ascii_letters\n",
    "    password=\" \"\n",
    "    for i in range(length):\n",
    "        password+=random.choice(characters)\n",
    "    return password"
   ]
  },
  {
   "cell_type": "code",
   "execution_count": 50,
   "id": "302d96bc",
   "metadata": {},
   "outputs": [],
   "source": [
    "# here use the expain \n",
    "            "
   ]
  },
  {
   "cell_type": "code",
   "execution_count": 51,
   "id": "815ce386",
   "metadata": {},
   "outputs": [
    {
     "name": "stdout",
     "output_type": "stream",
     "text": [
      "Enter the length of the password: 7\n",
      "Enter the level of complexity\n",
      "1. Low level (1-4)\n",
      "2. Medium level (5-7)\n",
      "3. Hard level (8-10)\n",
      "9\n",
      "Generated password:  74V^xI}\n"
     ]
    }
   ],
   "source": [
    "def main():\n",
    "    try:\n",
    "        password_length = int(input(\"Enter the length of the password: \"))\n",
    "        password_complexity = int(input(\"Enter the level of complexity\\n1. Low level (1-4)\\n2. Medium level (5-7)\\n3. Hard level (8-10)\\n\"))\n",
    "\n",
    "        if password_length <= 0 or password_complexity <= 0:\n",
    "            print(\"Kindly enter a valid length and complexity level.\")\n",
    "        elif password_length >= 0 and password_complexity <= 4:\n",
    "            password = power_generation(password_length)\n",
    "            print(\"Generated password:\", password)\n",
    "        elif password_length >= 0 and 4 < password_complexity <= 7:\n",
    "            password = power_generation_complex(password_length)  \n",
    "            print(\"Generated password:\", password)\n",
    "        elif password_length >= 0 and 7 < password_complexity <= 10:\n",
    "            password = power_generation_complex(password_length)  \n",
    "            print(\"Generated password:\", password)\n",
    "    except ValueError:\n",
    "        print(\"Invalid input! Please enter the correct input.\")\n",
    "\n",
    "if __name__ == \"__main__\":\n",
    "    main()\n",
    "\n",
    "\n",
    "\n",
    "\n"
   ]
  },
  {
   "cell_type": "code",
   "execution_count": null,
   "id": "854cfd42",
   "metadata": {},
   "outputs": [],
   "source": []
  }
 ],
 "metadata": {
  "kernelspec": {
   "display_name": "Python 3 (ipykernel)",
   "language": "python",
   "name": "python3"
  },
  "language_info": {
   "codemirror_mode": {
    "name": "ipython",
    "version": 3
   },
   "file_extension": ".py",
   "mimetype": "text/x-python",
   "name": "python",
   "nbconvert_exporter": "python",
   "pygments_lexer": "ipython3",
   "version": "3.11.4"
  }
 },
 "nbformat": 4,
 "nbformat_minor": 5
}
